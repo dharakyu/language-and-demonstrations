{
 "cells": [
  {
   "cell_type": "code",
   "execution_count": 108,
   "metadata": {},
   "outputs": [],
   "source": [
    "import pandas as pd\n",
    "import numpy as np\n",
    "from sklearn.model_selection import train_test_split\n",
    "from sklearn.linear_model import LogisticRegression, LinearRegression, Ridge"
   ]
  },
  {
   "cell_type": "markdown",
   "metadata": {},
   "source": [
    "## Read in file"
   ]
  },
  {
   "cell_type": "code",
   "execution_count": 111,
   "metadata": {},
   "outputs": [],
   "source": [
    "FILE_PATH_ROOT = '/home/dharakyu/signaling-bandits/outputs/' \\\n",
    "                '4x4partial_chunk-size-2_discrete-comm_max-len-4_vocab-size-80_chain-len-5_val'\n",
    "NUM_SHAPES = 4\n",
    "NUM_COLORS = 4\n",
    "\n",
    "df = pd.read_pickle(FILE_PATH_ROOT + '.pkl')"
   ]
  },
  {
   "cell_type": "markdown",
   "metadata": {},
   "source": [
    "## Get labels (utilities)"
   ]
  },
  {
   "cell_type": "code",
   "execution_count": 122,
   "metadata": {},
   "outputs": [],
   "source": [
    "def convert_df_col_to_np_array(df, col_name):\n",
    "    \"\"\"\n",
    "    Helper function to convert a column of a df to a np array\n",
    "    \"\"\"\n",
    "    list_of_np_arrays = df[col_name].tolist()\n",
    "    return np.concatenate(list_of_np_arrays, axis=0)\n",
    "\n",
    "def map_reward_matrix_to_index(stack):\n",
    "    \"\"\"\n",
    "    Extract the utilities from the reward matrices\n",
    "    \"\"\"\n",
    "    all_utilities = []\n",
    "    for i in range(3200):\n",
    "        row = stack[i, :]\n",
    "        matrix = row.reshape(NUM_COLORS * NUM_SHAPES, -1)\n",
    "        utilities = matrix[:, -2]\n",
    "        all_utilities.append(utilities)\n",
    "    return np.array(all_utilities)"
   ]
  },
  {
   "cell_type": "code",
   "execution_count": 127,
   "metadata": {},
   "outputs": [],
   "source": [
    "reward_matrices = convert_df_col_to_np_array(df=df, col_name='reward_matrix') # (3200, NUM_COLORS*NUM_SHAPES*encoding_len)\n",
    "utilities = map_reward_matrix_to_index(reward_matrices) # (3200, NUM_COLORS*NUM_SHAPES)"
   ]
  },
  {
   "cell_type": "markdown",
   "metadata": {},
   "source": [
    "## Get inputs (messages)"
   ]
  },
  {
   "cell_type": "code",
   "execution_count": 128,
   "metadata": {},
   "outputs": [
    {
     "name": "stdout",
     "output_type": "stream",
     "text": [
      "['message_0', 'message_1', 'message_2', 'message_3', 'message_4']\n"
     ]
    }
   ],
   "source": [
    "message_col_names = [col_name for col_name in df.columns.tolist() if 'message' in col_name]\n",
    "print(message_col_names)"
   ]
  },
  {
   "cell_type": "code",
   "execution_count": 129,
   "metadata": {},
   "outputs": [
    {
     "data": {
      "text/plain": [
       "(3200, 5, 320)"
      ]
     },
     "execution_count": 129,
     "metadata": {},
     "output_type": "execute_result"
    }
   ],
   "source": [
    "messages = [convert_df_col_to_np_array(df=df, col_name=col_name) for col_name in message_col_names]\n",
    "messages = np.array(messages)\n",
    "messages = np.swapaxes(messages, 0, 1)\n",
    "messages.shape"
   ]
  },
  {
   "cell_type": "markdown",
   "metadata": {},
   "source": [
    "## Train the model"
   ]
  },
  {
   "cell_type": "code",
   "execution_count": 134,
   "metadata": {},
   "outputs": [],
   "source": [
    "def get_MSE(messages, utilities):\n",
    "    X_train, X_test, y_train, y_test = train_test_split(messages, utilities)\n",
    "    \n",
    "    # for each generation of agents\n",
    "    for gen in range(num_agents):\n",
    "        print('gen', gen)\n",
    "        X_train_gen = X_train[:, gen, :]\n",
    "        X_test_gen = X_test[:, gen, :]\n",
    "\n",
    "        mses = []\n",
    "        # for each object in the reward matrix\n",
    "        for util_idx in range(y_train.shape[1]):\n",
    "            clf = Ridge().fit(X_train_gen, y_train[:, util_idx])\n",
    "            pred = clf.predict(X_test_gen)\n",
    "            mse = clf.score(X_test_gen, y_test[:, util_idx])\n",
    "            mses.append(mse)\n",
    "\n",
    "        print(np.mean(mses))"
   ]
  },
  {
   "cell_type": "code",
   "execution_count": 135,
   "metadata": {},
   "outputs": [
    {
     "name": "stdout",
     "output_type": "stream",
     "text": [
      "gen 0\n",
      "-0.05802458336890946\n",
      "gen 1\n",
      "-0.06091603833642041\n",
      "gen 2\n",
      "-0.07999456426378984\n",
      "gen 3\n",
      "-0.07181601755035517\n",
      "gen 4\n",
      "-0.06776301641761003\n"
     ]
    }
   ],
   "source": [
    "get_MSE(messages, utilities)"
   ]
  },
  {
   "cell_type": "markdown",
   "metadata": {},
   "source": [
    "## Do it in a loop, for different experimental conditions"
   ]
  },
  {
   "cell_type": "code",
   "execution_count": null,
   "metadata": {},
   "outputs": [],
   "source": []
  }
 ],
 "metadata": {
  "kernelspec": {
   "display_name": "Python 3",
   "language": "python",
   "name": "python3"
  },
  "language_info": {
   "codemirror_mode": {
    "name": "ipython",
    "version": 3
   },
   "file_extension": ".py",
   "mimetype": "text/x-python",
   "name": "python",
   "nbconvert_exporter": "python",
   "pygments_lexer": "ipython3",
   "version": "3.7.10"
  }
 },
 "nbformat": 4,
 "nbformat_minor": 4
}
