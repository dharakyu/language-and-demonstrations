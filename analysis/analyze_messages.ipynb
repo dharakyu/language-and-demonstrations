{
 "cells": [
  {
   "cell_type": "code",
   "execution_count": 56,
   "metadata": {},
   "outputs": [],
   "source": [
    "import pandas as pd\n",
    "import numpy as np\n",
    "from sklearn.model_selection import train_test_split\n",
    "from sklearn.linear_model import LogisticRegression, LinearRegression, Ridge\n",
    "from collections import Counter\n",
    "import matplotlib.pyplot as plt"
   ]
  },
  {
   "cell_type": "markdown",
   "metadata": {},
   "source": [
    "## Read in file"
   ]
  },
  {
   "cell_type": "code",
   "execution_count": 2,
   "metadata": {},
   "outputs": [],
   "source": [
    "FILE_PATH_ROOT = '/home/dharakyu/signaling-bandits/outputs/' \\\n",
    "                '4x4-partial_chunk-2_chain-len-5_run-1_val'\n",
    "NUM_SHAPES = 4\n",
    "NUM_COLORS = 4\n",
    "\n",
    "df = pd.read_pickle(FILE_PATH_ROOT + '.pkl')"
   ]
  },
  {
   "cell_type": "markdown",
   "metadata": {},
   "source": [
    "## Get labels (utilities)"
   ]
  },
  {
   "cell_type": "code",
   "execution_count": 3,
   "metadata": {},
   "outputs": [],
   "source": [
    "def convert_df_col_to_np_array(df, col_name):\n",
    "    \"\"\"\n",
    "    Helper function to convert a column of a df to a np array\n",
    "    \"\"\"\n",
    "    list_of_np_arrays = df[col_name].tolist()\n",
    "    return np.concatenate(list_of_np_arrays, axis=0)\n",
    "\n",
    "def extract_utilities_from_reward_matrix(stack):\n",
    "    \"\"\"\n",
    "    Extract the utilities from the reward matrices\n",
    "    \"\"\"\n",
    "    all_utilities = []\n",
    "    for i in range(3200):\n",
    "        row = stack[i, :]\n",
    "        matrix = row.reshape(NUM_COLORS * NUM_SHAPES, -1)\n",
    "        utilities = matrix[:, -2]\n",
    "        all_utilities.append(utilities)\n",
    "    return np.array(all_utilities)"
   ]
  },
  {
   "cell_type": "code",
   "execution_count": 4,
   "metadata": {},
   "outputs": [],
   "source": [
    "reward_matrices = convert_df_col_to_np_array(df=df, col_name='reward_matrix') # (3200, NUM_COLORS*NUM_SHAPES*encoding_len)\n",
    "utilities = extract_utilities_from_reward_matrix(reward_matrices) # (3200, NUM_COLORS*NUM_SHAPES)"
   ]
  },
  {
   "cell_type": "markdown",
   "metadata": {},
   "source": [
    "## Get inputs (messages)"
   ]
  },
  {
   "cell_type": "code",
   "execution_count": 5,
   "metadata": {},
   "outputs": [
    {
     "name": "stdout",
     "output_type": "stream",
     "text": [
      "['message_0', 'message_1', 'message_2', 'message_3', 'message_4']\n"
     ]
    }
   ],
   "source": [
    "message_col_names = [col_name for col_name in df.columns.tolist() if 'message' in col_name]\n",
    "print(message_col_names)"
   ]
  },
  {
   "cell_type": "code",
   "execution_count": 6,
   "metadata": {},
   "outputs": [
    {
     "data": {
      "text/plain": [
       "(3200, 5, 320)"
      ]
     },
     "execution_count": 6,
     "metadata": {},
     "output_type": "execute_result"
    }
   ],
   "source": [
    "messages = [convert_df_col_to_np_array(df=df, col_name=col_name) for col_name in message_col_names]\n",
    "messages = np.array(messages)\n",
    "messages = np.swapaxes(messages, 0, 1)\n",
    "messages.shape"
   ]
  },
  {
   "cell_type": "markdown",
   "metadata": {},
   "source": [
    "## Train the model"
   ]
  },
  {
   "cell_type": "code",
   "execution_count": 9,
   "metadata": {},
   "outputs": [],
   "source": [
    "def get_R_squared(messages, utilities):\n",
    "    num_agents = messages.shape[1]\n",
    "    X_train, X_test, y_train, y_test = train_test_split(messages, utilities)\n",
    "    \n",
    "    avg_R_squared_for_each_gen = []\n",
    "    \n",
    "    # for each generation of agents\n",
    "    for gen in range(num_agents):\n",
    "        #print('gen', gen)\n",
    "        X_train_gen = X_train[:, gen, :]\n",
    "        X_test_gen = X_test[:, gen, :]\n",
    "\n",
    "        R_squareds = []\n",
    "        # for each object in the reward matrix\n",
    "        for util_idx in range(y_train.shape[1]):\n",
    "            clf = Ridge().fit(X_train_gen, y_train[:, util_idx])\n",
    "            pred = clf.predict(X_test_gen)\n",
    "            R_squared = clf.score(X_test_gen, y_test[:, util_idx])\n",
    "            R_squareds.append(R_squared)\n",
    "\n",
    "        avg_R_squared_for_each_gen.append(np.mean(R_squareds))\n",
    "    return avg_R_squared_for_each_gen"
   ]
  },
  {
   "cell_type": "code",
   "execution_count": 10,
   "metadata": {},
   "outputs": [
    {
     "name": "stdout",
     "output_type": "stream",
     "text": [
      "gen 0 0.15088617951459538\n",
      "gen 1 0.18853765252647012\n",
      "gen 2 0.22825188977066774\n",
      "gen 3 0.23162863820479973\n",
      "gen 4 0.24158289371543262\n"
     ]
    }
   ],
   "source": [
    "avg_R_squared = get_R_squared(messages, utilities)\n",
    "for i in range(len(avg_R_squared)):\n",
    "    print('gen', i, avg_R_squared[i])"
   ]
  },
  {
   "cell_type": "markdown",
   "metadata": {},
   "source": [
    "## Permutation test"
   ]
  },
  {
   "cell_type": "code",
   "execution_count": 15,
   "metadata": {},
   "outputs": [],
   "source": [
    "def permutation_test_R_squared(messages, utilities):\n",
    "    num_agents = messages.shape[1]\n",
    "    \n",
    "    # randomly shuffle the order of the utilities such that they no longer\n",
    "    # correspond with the messages\n",
    "    np.random.shuffle(utilities)\n",
    "    \n",
    "    X_train, X_test, y_train, y_test = train_test_split(messages, utilities)\n",
    "    \n",
    "    avg_R_squared_for_each_gen = []\n",
    "    \n",
    "    # for each generation of agents\n",
    "    for gen in range(num_agents):\n",
    "        #print('gen', gen)\n",
    "        X_train_gen = X_train[:, gen, :]\n",
    "        X_test_gen = X_test[:, gen, :]\n",
    "\n",
    "        R_squareds = []\n",
    "        # for each object in the reward matrix\n",
    "        for util_idx in range(y_train.shape[1]):\n",
    "            clf = Ridge().fit(X_train_gen, y_train[:, util_idx])\n",
    "            pred = clf.predict(X_test_gen)\n",
    "            R_squared = clf.score(X_test_gen, y_test[:, util_idx])\n",
    "            R_squareds.append(R_squared)\n",
    "\n",
    "        avg_R_squared_for_each_gen.append(np.mean(R_squareds))\n",
    "    return avg_R_squared_for_each_gen"
   ]
  },
  {
   "cell_type": "code",
   "execution_count": 16,
   "metadata": {},
   "outputs": [
    {
     "name": "stdout",
     "output_type": "stream",
     "text": [
      "gen 0 -0.012355926044217327\n",
      "gen 1 -0.008914293333003295\n",
      "gen 2 -0.007868174471435091\n",
      "gen 3 -0.0038949962149325904\n",
      "gen 4 -0.005694437609485091\n"
     ]
    }
   ],
   "source": [
    "avg_R_squared = permutation_test_R_squared(messages, utilities)\n",
    "for i in range(len(avg_R_squared)):\n",
    "    print('gen', i, avg_R_squared[i])"
   ]
  },
  {
   "cell_type": "markdown",
   "metadata": {},
   "source": [
    "## Do it in a loop, for different experimental conditions"
   ]
  },
  {
   "cell_type": "code",
   "execution_count": 38,
   "metadata": {},
   "outputs": [
    {
     "name": "stdout",
     "output_type": "stream",
     "text": [
      "chain length 5\n",
      "MSE at gen 0 0.14568858200567722\n",
      "MSE at gen 1 0.19841148333283432\n",
      "MSE at gen 2 0.22610944546664308\n",
      "MSE at gen 3 0.23375392917745766\n",
      "MSE at gen 4 0.23246954275846238\n"
     ]
    }
   ],
   "source": [
    "FILE_PATH_ROOT = '/home/dharakyu/signaling-bandits/outputs/' \\\n",
    "                '4x4-partial_chunk-2_chain-len-'\n",
    "chain_lens = [2, 3, 4, 5]\n",
    "run_nums = [1, 2, 3, 4, 5]\n",
    "\n",
    "for chain_len in [5]:\n",
    "    print('chain length', chain_len)\n",
    "    R_squared_for_each_gen = []\n",
    "    \n",
    "    for run_num in run_nums:\n",
    "        full_path = FILE_PATH_ROOT + '{chain_len}_run-{run_num}_val.pkl'.format(chain_len=chain_len, run_num=run_num)\n",
    "        df = pd.read_pickle(full_path)\n",
    "        reward_matrices = convert_df_col_to_np_array(df=df, col_name='reward_matrix') # (3200, NUM_COLORS*NUM_SHAPES*encoding_len)\n",
    "        utilities = extract_utilities_from_reward_matrix(reward_matrices) # (3200, NUM_COLORS*NUM_SHAPES)\n",
    "        message_col_names = [col_name for col_name in df.columns.tolist() if 'message' in col_name]\n",
    "        messages = [convert_df_col_to_np_array(df=df, col_name=col_name) for col_name in message_col_names]\n",
    "        messages = np.array(messages)\n",
    "        messages = np.swapaxes(messages, 0, 1)\n",
    "        avg_R_squared = get_R_squared(messages, utilities)\n",
    "        R_squared_for_each_gen.append(avg_R_squared)\n",
    "        \n",
    "    R_squared_for_each_gen = np.array(R_squared_for_each_gen)\n",
    "    gen_means = np.mean(R_squared_for_each_gen, axis=0)\n",
    "    for i in range(gen_means.shape[0]):\n",
    "        print('MSE at gen', i, gen_means[i])\n",
    "        "
   ]
  },
  {
   "cell_type": "markdown",
   "metadata": {},
   "source": [
    "## Predict the position of the agent, given the message"
   ]
  },
  {
   "cell_type": "code",
   "execution_count": 37,
   "metadata": {},
   "outputs": [
    {
     "name": "stdout",
     "output_type": "stream",
     "text": [
      "chain length 5\n",
      "(16000, 320)\n",
      "0.23275\n",
      "(16000, 320)\n",
      "0.234\n",
      "(16000, 320)\n",
      "0.25325\n",
      "(16000, 320)\n",
      "0.23675\n",
      "(16000, 320)\n",
      "0.2195\n"
     ]
    }
   ],
   "source": [
    "for chain_len in [5]:\n",
    "    print('chain length', chain_len)\n",
    "    accuracy_for_each_run = []\n",
    "    \n",
    "    for run_num in run_nums:\n",
    "\n",
    "        full_path = FILE_PATH_ROOT + '{chain_len}_run-{run_num}_val.pkl'.format(chain_len=chain_len, run_num=run_num)\n",
    "        df = pd.read_pickle(full_path)\n",
    "        reward_matrices = convert_df_col_to_np_array(df=df, col_name='reward_matrix') # (3200, NUM_COLORS*NUM_SHAPES*encoding_len)\n",
    "        utilities = extract_utilities_from_reward_matrix(reward_matrices) # (3200, NUM_COLORS*NUM_SHAPES)\n",
    "        message_col_names = [col_name for col_name in df.columns.tolist() if 'message' in col_name]\n",
    "        messages = [convert_df_col_to_np_array(df=df, col_name=col_name) for col_name in message_col_names]\n",
    "        messages = np.array(messages)\n",
    "        messages = np.swapaxes(messages, 0, 1)\n",
    "        \n",
    "        X = [messages[:, i, :] for i in range(chain_len)]\n",
    "        X = np.concatenate(X, axis=0)\n",
    "        print(X.shape)\n",
    "        \n",
    "        y = []\n",
    "        for i in range(chain_len):\n",
    "            for _ in range(3200):\n",
    "                y.append(i)\n",
    "        #print(X[0])\n",
    "        #print(y[0])\n",
    "        X_train, X_test, y_train, y_test = train_test_split(X, y)\n",
    "        clf = LogisticRegression(solver='saga', penalty='l2').fit(X_train, y_train)\n",
    "        acc = clf.score(X_test, y_test)\n",
    "        print(acc)"
   ]
  },
  {
   "cell_type": "code",
   "execution_count": 35,
   "metadata": {},
   "outputs": [
    {
     "name": "stdout",
     "output_type": "stream",
     "text": [
      "Counter({0: 7052, 4: 3158, 2: 1418, 3: 372})\n",
      "Counter({3: 2416, 0: 2414, 4: 2403, 2: 2386, 1: 2381})\n",
      "12000\n"
     ]
    }
   ],
   "source": [
    "preds = clf.predict(X_train)\n",
    "print(Counter(preds))\n",
    "print(Counter(y_train))\n",
    "\n",
    "print(len(preds))"
   ]
  },
  {
   "cell_type": "markdown",
   "metadata": {},
   "source": [
    "## Qualitative analysis of messages for a single reward matrix\n",
    "\n",
    "The approach: within a single run, find a single reward matrix, and get all the messages associated with it. Show how similar those messages are to one another. Compare across generations - my hypothesis is that the messages should be increasingly similar as generation increases, since there is increasing overlap in what the agents see."
   ]
  },
  {
   "cell_type": "code",
   "execution_count": 39,
   "metadata": {},
   "outputs": [],
   "source": [
    "# load in file\n",
    "file_path = '/home/dharakyu/signaling-bandits/outputs/' \\\n",
    "                '4x4-partial_chunk-2_chain-len-5_run-1_val.pkl'\n",
    "NUM_SHAPES = 4\n",
    "NUM_COLORS = 4\n",
    "\n",
    "df = pd.read_pickle(file_path)"
   ]
  },
  {
   "cell_type": "code",
   "execution_count": 40,
   "metadata": {},
   "outputs": [
    {
     "data": {
      "text/plain": [
       "array([   8,   87,  108, 1025, 1265, 1448, 1493, 1546, 1599, 2010, 2384,\n",
       "       2542, 2804, 3133])"
      ]
     },
     "execution_count": 40,
     "metadata": {},
     "output_type": "execute_result"
    }
   ],
   "source": [
    "reward_matrices = convert_df_col_to_np_array(df=df, col_name='reward_matrix') # (3200, NUM_COLORS*NUM_SHAPES*encoding_len)\n",
    "utilities = extract_utilities_from_reward_matrix(reward_matrices) # (3200, NUM_COLORS*NUM_SHAPES)\n",
    "_, indices = np.unique(utilities, return_inverse=True, axis=0)\n",
    "indices.shape\n",
    "# pick the arrangement of utilities that occurs most frequently\n",
    "c = Counter(list(indices))\n",
    "most_freq_val, count = c.most_common(1)[0]\n",
    "\n",
    "# and get the indices where it appears\n",
    "indices_of_most_freq_val = np.where(indices == most_freq_val)[0]\n",
    "indices_of_most_freq_val"
   ]
  },
  {
   "cell_type": "code",
   "execution_count": 41,
   "metadata": {},
   "outputs": [
    {
     "name": "stdout",
     "output_type": "stream",
     "text": [
      "['message_0', 'message_1', 'message_2', 'message_3', 'message_4']\n",
      "(3200, 5, 320)\n",
      "(14, 5, 320)\n"
     ]
    }
   ],
   "source": [
    "# get the messages corresponding to those indices\n",
    "message_col_names = [col_name for col_name in df.columns.tolist() if 'message' in col_name]\n",
    "print(message_col_names)\n",
    "messages = [convert_df_col_to_np_array(df=df, col_name=col_name) for col_name in message_col_names]\n",
    "messages = np.array(messages)\n",
    "messages = np.swapaxes(messages, 0, 1)\n",
    "print(messages.shape)\n",
    "\n",
    "subset_of_messages = messages[indices_of_most_freq_val]\n",
    "print(subset_of_messages.shape)"
   ]
  },
  {
   "cell_type": "code",
   "execution_count": 105,
   "metadata": {},
   "outputs": [
    {
     "name": "stdout",
     "output_type": "stream",
     "text": [
      "generation 0\n",
      "[  1 130 210 242]\n",
      "[  1 130 168 242]\n",
      "[  1 114 194 242]\n",
      "[  1 108 188 242]\n",
      "[  1 101 187 242]\n",
      "[  1  88 168 242]\n",
      "[  1  83 194 242]\n",
      "generation 1\n",
      "[  1 159 239 242]\n",
      "[  1 108 188 242]\n",
      "generation 2\n",
      "[  1 108 188 242]\n",
      "generation 3\n",
      "[  1 108 188 242]\n",
      "generation 4\n",
      "[  1 108 188 242]\n"
     ]
    }
   ],
   "source": [
    "# start by counting how many of the messages are the same\n",
    "all_tokens = []\n",
    "all_counts = []\n",
    "for i in range(5):\n",
    "    print('generation', i)\n",
    "    tokens_in_gen = []\n",
    "    unique_messages, counts = np.unique(subset_of_messages[:, i, :], return_counts=True, axis=0)\n",
    "    for message in unique_messages:\n",
    "        print(np.where(message == 1)[0])\n",
    "        tokens_in_gen.append(np.where(message == 1)[0])\n",
    "    all_counts.append(counts)\n",
    "    all_tokens.append(np.array(tokens_in_gen))"
   ]
  },
  {
   "cell_type": "code",
   "execution_count": 118,
   "metadata": {},
   "outputs": [
    {
     "name": "stdout",
     "output_type": "stream",
     "text": [
      "[[  1 130 210 242]\n",
      " [  1 130 168 242]\n",
      " [  1 114 194 242]\n",
      " [  1 108 188 242]\n",
      " [  1 101 187 242]\n",
      " [  1  88 168 242]\n",
      " [  1  83 194 242]]\n",
      "[1 1 2 7 1 1 1]\n",
      "[[  1 159 239 242]\n",
      " [  1 108 188 242]]\n",
      "[ 1 13]\n",
      "[[  1 108 188 242]]\n",
      "[14]\n",
      "[[  1 108 188 242]]\n",
      "[14]\n",
      "[[  1 108 188 242]]\n",
      "[14]\n"
     ]
    }
   ],
   "source": [
    "for i in range(5):\n",
    "    print(all_tokens[i])\n",
    "    print(all_counts[i])"
   ]
  },
  {
   "cell_type": "code",
   "execution_count": 96,
   "metadata": {},
   "outputs": [
    {
     "name": "stdout",
     "output_type": "stream",
     "text": [
      "[ 83  88 101 108 114 130 159 168 187 188 194 210 239]\n",
      "[ 0  1  2  3  4  5  7  8  9 10 11  3  6  9 12  3  9  3  9  3  9]\n"
     ]
    }
   ],
   "source": [
    "all_tokens_seen = []\n",
    "for gen_tokens in all_tokens:\n",
    "    exclude_start_and_stop = gen_tokens[:, 1:3]\n",
    "    uniq = list(np.unique(exclude_start_and_stop))\n",
    "    all_tokens_seen.extend(uniq)\n",
    "    \n",
    "all_unique_tokens, indices = np.unique(all_tokens_seen, return_inverse=True)\n",
    "print(all_unique_tokens)\n",
    "print(indices)"
   ]
  },
  {
   "cell_type": "code",
   "execution_count": 73,
   "metadata": {},
   "outputs": [
    {
     "name": "stdout",
     "output_type": "stream",
     "text": [
      "[ 83  88 101 108 114 130 168 187 188 194 210]\n",
      "[ 5 10  5  6  4  9  3  8  2  7  1  6  0  9]\n"
     ]
    }
   ],
   "source": [
    "tokens[:, 1:3]\n",
    "unique_tokens, indices = np.unique(tokens[:, 1:3], return_inverse=True)\n",
    "print(unique_tokens)\n",
    "print(indices)"
   ]
  },
  {
   "cell_type": "code",
   "execution_count": 92,
   "metadata": {},
   "outputs": [
    {
     "name": "stdout",
     "output_type": "stream",
     "text": [
      "[130 130 114 108 101  88  83]\n",
      "[5, 5, 4, 3, 2, 1, 0]\n",
      "[210 168 194 188 187 168 194]\n",
      "[10, 6, 9, 8, 7, 6, 9]\n"
     ]
    }
   ],
   "source": [
    "cmap = plt.colormaps[\"tab20\"]\n",
    "inner_colors_indices = [np.where(tokens[i, 1] == unique_tokens)[0][0] for i in range(7)]\n",
    "\n",
    "print(tokens[:, 1])\n",
    "print(inner_colors_indices)\n",
    "inner_colors = cmap(indices[inner_colors_indices])\n",
    "\n",
    "outer_colors_indices = [np.where(tokens[i, 2] == unique_tokens)[0][0] for i in range(7)]\n",
    "\n",
    "print(tokens[:, 2])\n",
    "print(outer_colors_indices)\n",
    "outer_colors = cmap(indices[outer_colors_indices])"
   ]
  },
  {
   "cell_type": "code",
   "execution_count": 121,
   "metadata": {},
   "outputs": [],
   "source": [
    "def get_colors_from_colormap(unique_tokens, indices, gen_tokens, inner):\n",
    "    cmap = plt.colormaps[\"tab20\"]\n",
    "    if inner: \n",
    "        string_index = 1\n",
    "    else:\n",
    "        string_index = 2\n",
    "    \n",
    "    num_unique_messages = gen_tokens.shape[0]\n",
    "    print(np.where(tokens[i, string_index] == unique_tokens)[0][0])\n",
    "    colors_indices = [np.where(gen_tokens[i, string_index] == unique_tokens)[0][0] for i in range(num_unique_messages)]\n",
    "    return cmap(indices[colors_indices])"
   ]
  },
  {
   "cell_type": "code",
   "execution_count": 138,
   "metadata": {},
   "outputs": [
    {
     "name": "stdout",
     "output_type": "stream",
     "text": [
      "5\n",
      "10\n",
      "5\n",
      "6\n",
      "4\n",
      "9\n",
      "3\n",
      "8\n",
      "2\n",
      "7\n"
     ]
    },
    {
     "data": {
      "image/png": "[encoded data removed]",
      "text/plain": [
       "<Figure size 720x720 with 5 Axes>"
      ]
     },
     "metadata": {},
     "output_type": "display_data"
    }
   ],
   "source": [
    "fig, axes = plt.subplots(1, 5, figsize=(10, 10))\n",
    "size = 0.3\n",
    "for i, ax in enumerate(axes):\n",
    "    gen_tokens = all_tokens[i]\n",
    "    counts = all_counts[i]\n",
    "    \n",
    "    inner_colors = get_colors_from_colormap(unique_tokens, indices, gen_tokens, inner=True)\n",
    "    #print(inner_colors)\n",
    "    outer_colors = get_colors_from_colormap(unique_tokens, indices, gen_tokens, inner=False)\n",
    "    ax.pie(counts, radius=1, colors=outer_colors,\n",
    "           wedgeprops=dict(width=size, edgecolor='w'))\n",
    "    ax.pie(counts, radius=1-size, colors=inner_colors,\n",
    "           wedgeprops=dict(width=size, edgecolor='w'))\n",
    "    #ax.set(aspect=\"equal\", title='Gen. ' + str(i))\n",
    "    ax.set_title('Gen. ' + str(i), fontsize=18)\n",
    "#plt.tight_layout()\n",
    "fig.subplots_adjust(wspace=0, hspace=0)\n",
    "plt.show()"
   ]
  },
  {
   "cell_type": "code",
   "execution_count": null,
   "metadata": {},
   "outputs": [],
   "source": [
    "for i in range(5):\n",
    "    print(messages[:, i, :].shape)\n",
    "    unique_messages_across_iteration = np.unique(messages[:, i, :], axis=0)\n",
    "    print(len(unique_messages_across_iteration))"
   ]
  }
 ],
 "metadata": {
  "kernelspec": {
   "display_name": "Python 3",
   "language": "python",
   "name": "python3"
  },
  "language_info": {
   "codemirror_mode": {
    "name": "ipython",
    "version": 3
   },
   "file_extension": ".py",
   "mimetype": "text/x-python",
   "name": "python",
   "nbconvert_exporter": "python",
   "pygments_lexer": "ipython3",
   "version": "3.7.10"
  }
 },
 "nbformat": 4,
 "nbformat_minor": 4
}
