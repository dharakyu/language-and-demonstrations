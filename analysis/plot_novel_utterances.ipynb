{
 "cells": [
  {
   "cell_type": "code",
   "execution_count": 1,
   "metadata": {},
   "outputs": [],
   "source": [
    "import pandas as pd\n",
    "import numpy as np\n",
    "\n",
    "import matplotlib.pyplot as plt\n",
    "\n",
    "from datetime import datetime\n",
    "import os"
   ]
  },
  {
   "cell_type": "code",
   "execution_count": 2,
   "metadata": {},
   "outputs": [
    {
     "data": {
      "text/plain": [
       "'/home/dharakyu/language-and-demonstrations/data/messages_for_qualitative_analysis'"
      ]
     },
     "execution_count": 2,
     "metadata": {},
     "output_type": "execute_result"
    }
   ],
   "source": [
    "path_to_messages_folder = os.path.join(os.path.dirname(os.getcwd()), 'data', 'messages_for_qualitative_analysis')\n",
    "path_to_messages_folder"
   ]
  },
  {
   "cell_type": "markdown",
   "metadata": {},
   "source": [
    "## Language condition"
   ]
  },
  {
   "cell_type": "code",
   "execution_count": 3,
   "metadata": {},
   "outputs": [],
   "source": [
    "lang_train_path = os.path.join(path_to_messages_folder, \n",
    "                               'perfect-teacher_lang_max-message-len=12_train-percent=0.05_log_train.pkl')\n",
    "lang_val_path = os.path.join(path_to_messages_folder, \n",
    "                               'perfect-teacher_lang_max-message-len=12_train-percent=0.05_log_val.pkl')\n",
    "\n",
    "lang_train = pd.read_pickle(lang_train_path)\n",
    "lang_val = pd.read_pickle(lang_val_path)\n",
    "\n",
    "lang_train_messages = [str(message) for message in lang_train['signal']]\n",
    "lang_val_messages = [str(message) for message in lang_val['signal']]"
   ]
  },
  {
   "cell_type": "code",
   "execution_count": 4,
   "metadata": {},
   "outputs": [
    {
     "data": {
      "text/plain": [
       "2"
      ]
     },
     "execution_count": 4,
     "metadata": {},
     "output_type": "execute_result"
    }
   ],
   "source": [
    "# number of unique train messages\n",
    "len(set(lang_train_messages))"
   ]
  },
  {
   "cell_type": "code",
   "execution_count": 5,
   "metadata": {},
   "outputs": [
    {
     "data": {
      "text/plain": [
       "2"
      ]
     },
     "execution_count": 5,
     "metadata": {},
     "output_type": "execute_result"
    }
   ],
   "source": [
    "# number of unique val messages\n",
    "len(set(lang_val_messages))"
   ]
  },
  {
   "cell_type": "code",
   "execution_count": 6,
   "metadata": {},
   "outputs": [
    {
     "data": {
      "text/plain": [
       "0"
      ]
     },
     "execution_count": 6,
     "metadata": {},
     "output_type": "execute_result"
    }
   ],
   "source": [
    "# number of unique val messages not seen during training\n",
    "len(set(lang_val_messages) - set(lang_train_messages))"
   ]
  },
  {
   "cell_type": "markdown",
   "metadata": {},
   "source": [
    "## Demonstrations condition"
   ]
  },
  {
   "cell_type": "code",
   "execution_count": 7,
   "metadata": {},
   "outputs": [],
   "source": [
    "demo_train_path = os.path.join(path_to_messages_folder, \n",
    "                               'perfect-teacher_pedagogical-demos_k=2_train-percent=0.05_log_train.pkl')\n",
    "demo_val_path = os.path.join(path_to_messages_folder, \n",
    "                               'perfect-teacher_pedagogical-demos_k=2_train-percent=0.05_log_val.pkl')\n",
    "\n",
    "demo_train = pd.read_pickle(demo_train_path)\n",
    "demo_val = pd.read_pickle(demo_val_path)\n",
    "\n",
    "demo_train_demos = [str(message) for message in demo_train['signal']]\n",
    "demo_val_demos = [str(message) for message in demo_val['signal']]"
   ]
  },
  {
   "cell_type": "code",
   "execution_count": 8,
   "metadata": {},
   "outputs": [
    {
     "data": {
      "text/plain": [
       "40"
      ]
     },
     "execution_count": 8,
     "metadata": {},
     "output_type": "execute_result"
    }
   ],
   "source": [
    "# number of unique train demos\n",
    "len(set(demo_train_demos))"
   ]
  },
  {
   "cell_type": "code",
   "execution_count": 9,
   "metadata": {},
   "outputs": [
    {
     "data": {
      "text/plain": [
       "69"
      ]
     },
     "execution_count": 9,
     "metadata": {},
     "output_type": "execute_result"
    }
   ],
   "source": [
    "# number of unique val demos\n",
    "len(set(demo_val_demos))"
   ]
  },
  {
   "cell_type": "code",
   "execution_count": 10,
   "metadata": {},
   "outputs": [
    {
     "data": {
      "text/plain": [
       "52"
      ]
     },
     "execution_count": 10,
     "metadata": {},
     "output_type": "execute_result"
    }
   ],
   "source": [
    "# number of unique val demos not seen during training\n",
    "len(set(demo_val_demos) - set(demo_train_demos))"
   ]
  },
  {
   "cell_type": "markdown",
   "metadata": {},
   "source": [
    "## Figure"
   ]
  },
  {
   "cell_type": "code",
   "execution_count": 12,
   "metadata": {},
   "outputs": [
    {
     "data": {
      "image/png": "[encoded data removed]",
      "text/plain": [
       "<Figure size 360x129.6 with 2 Axes>"
      ]
     },
     "metadata": {
      "needs_background": "light"
     },
     "output_type": "display_data"
    }
   ],
   "source": [
    "lang_bottom_bar = [2, 2-0]\n",
    "lang_top_bar = [0, 0]\n",
    "\n",
    "demos_bottom_bar = [40, 69-52]\n",
    "demos_top_bar = [0, 52]\n",
    "\n",
    "labels = ['train', 'val']\n",
    "\n",
    "fig, (ax0, ax1) = plt.subplots(nrows=1, ncols=2, figsize=(5, 1.8), sharey=True)\n",
    "\n",
    "# plot the bars\n",
    "ax0.bar(labels, lang_bottom_bar, color='gray')\n",
    "ax0.bar(labels, lang_top_bar, bottom=lang_bottom_bar, color='salmon', label=\"Novel utterances\")\n",
    "\n",
    "# add legends, title and axis labels\n",
    "ax0.legend(loc='upper left', fontsize=8, frameon=False)\n",
    "ax0.set_title(\"Language\", fontdict={'fontsize': 10})\n",
    "ax0.set_ylabel(\"# unique utterances\")\n",
    "\n",
    "ax1.bar(labels, demos_bottom_bar, color='gray')\n",
    "ax1.bar(labels, demos_top_bar, bottom=demos_bottom_bar, color='salmon', label=\"Novel utterances\")\n",
    "\n",
    "ax1.set_title(\"Demos\", fontdict={'fontsize': 10})\n",
    "ax1.set_ylim([0, 80])\n",
    "\n",
    "fig.show()"
   ]
  },
  {
   "cell_type": "code",
   "execution_count": null,
   "metadata": {},
   "outputs": [],
   "source": []
  }
 ],
 "metadata": {
  "kernelspec": {
   "display_name": "Python 3",
   "language": "python",
   "name": "python3"
  },
  "language_info": {
   "codemirror_mode": {
    "name": "ipython",
    "version": 3
   },
   "file_extension": ".py",
   "mimetype": "text/x-python",
   "name": "python",
   "nbconvert_exporter": "python",
   "pygments_lexer": "ipython3",
   "version": "3.7.10"
  }
 },
 "nbformat": 4,
 "nbformat_minor": 4
}
