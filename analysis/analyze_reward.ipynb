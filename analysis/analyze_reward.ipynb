{
 "cells": [
  {
   "cell_type": "code",
   "execution_count": 1,
   "metadata": {},
   "outputs": [],
   "source": [
    "import numpy as np\n",
    "import pandas as pd\n",
    "import matplotlib.pyplot as plt\n",
    "from scipy.stats import ttest_ind, spearmanr"
   ]
  },
  {
   "cell_type": "code",
   "execution_count": 2,
   "metadata": {},
   "outputs": [
    {
     "data": {
      "text/html": [
       "<div>\n",
       "<style scoped>\n",
       "    .dataframe tbody tr th:only-of-type {\n",
       "        vertical-align: middle;\n",
       "    }\n",
       "\n",
       "    .dataframe tbody tr th {\n",
       "        vertical-align: top;\n",
       "    }\n",
       "\n",
       "    .dataframe thead th {\n",
       "        text-align: right;\n",
       "    }\n",
       "</style>\n",
       "<table border=\"1\" class=\"dataframe\">\n",
       "  <thead>\n",
       "    <tr style=\"text-align: right;\">\n",
       "      <th></th>\n",
       "      <th>State</th>\n",
       "      <th>Notes</th>\n",
       "      <th>User</th>\n",
       "      <th>Tags</th>\n",
       "      <th>Created</th>\n",
       "      <th>Runtime</th>\n",
       "      <th>Sweep</th>\n",
       "      <th>batch_size</th>\n",
       "      <th>chain_length</th>\n",
       "      <th>chunks</th>\n",
       "      <th>...</th>\n",
       "      <th>val_loss_2</th>\n",
       "      <th>val_loss_3</th>\n",
       "      <th>val_loss_4</th>\n",
       "      <th>val_prediction_index</th>\n",
       "      <th>val_reward</th>\n",
       "      <th>val_reward_0</th>\n",
       "      <th>val_reward_1</th>\n",
       "      <th>val_reward_2</th>\n",
       "      <th>val_reward_3</th>\n",
       "      <th>val_reward_4</th>\n",
       "    </tr>\n",
       "    <tr>\n",
       "      <th>Name</th>\n",
       "      <th></th>\n",
       "      <th></th>\n",
       "      <th></th>\n",
       "      <th></th>\n",
       "      <th></th>\n",
       "      <th></th>\n",
       "      <th></th>\n",
       "      <th></th>\n",
       "      <th></th>\n",
       "      <th></th>\n",
       "      <th></th>\n",
       "      <th></th>\n",
       "      <th></th>\n",
       "      <th></th>\n",
       "      <th></th>\n",
       "      <th></th>\n",
       "      <th></th>\n",
       "      <th></th>\n",
       "      <th></th>\n",
       "      <th></th>\n",
       "      <th></th>\n",
       "    </tr>\n",
       "  </thead>\n",
       "  <tbody>\n",
       "    <tr>\n",
       "      <th>4x4-partial_chunk-2_chain-len-5</th>\n",
       "      <td>finished</td>\n",
       "      <td>-</td>\n",
       "      <td>dharakyu</td>\n",
       "      <td>NaN</td>\n",
       "      <td>2022-06-03T00:18:39.000Z</td>\n",
       "      <td>16495</td>\n",
       "      <td>NaN</td>\n",
       "      <td>32</td>\n",
       "      <td>5</td>\n",
       "      <td>[2,4,6,8,10,12]</td>\n",
       "      <td>...</td>\n",
       "      <td>-0.933042</td>\n",
       "      <td>-0.949122</td>\n",
       "      <td>-0.955235</td>\n",
       "      <td>NaN</td>\n",
       "      <td>NaN</td>\n",
       "      <td>0.488649</td>\n",
       "      <td>0.600524</td>\n",
       "      <td>0.627561</td>\n",
       "      <td>0.639179</td>\n",
       "      <td>0.641665</td>\n",
       "    </tr>\n",
       "    <tr>\n",
       "      <th>4x4-partial_chunk-2_chain-len-2</th>\n",
       "      <td>finished</td>\n",
       "      <td>-</td>\n",
       "      <td>dharakyu</td>\n",
       "      <td>NaN</td>\n",
       "      <td>2022-06-02T06:48:06.000Z</td>\n",
       "      <td>70182</td>\n",
       "      <td>NaN</td>\n",
       "      <td>32</td>\n",
       "      <td>2</td>\n",
       "      <td>[2,4,6,8,10,12]</td>\n",
       "      <td>...</td>\n",
       "      <td>NaN</td>\n",
       "      <td>NaN</td>\n",
       "      <td>NaN</td>\n",
       "      <td>NaN</td>\n",
       "      <td>NaN</td>\n",
       "      <td>0.479359</td>\n",
       "      <td>0.571571</td>\n",
       "      <td>NaN</td>\n",
       "      <td>NaN</td>\n",
       "      <td>NaN</td>\n",
       "    </tr>\n",
       "    <tr>\n",
       "      <th>4x4-partial_chunk-2_chain-len-4</th>\n",
       "      <td>finished</td>\n",
       "      <td>-</td>\n",
       "      <td>dharakyu</td>\n",
       "      <td>NaN</td>\n",
       "      <td>2022-06-02T20:41:23.000Z</td>\n",
       "      <td>13027</td>\n",
       "      <td>NaN</td>\n",
       "      <td>32</td>\n",
       "      <td>4</td>\n",
       "      <td>[2,4,6,8,10,12]</td>\n",
       "      <td>...</td>\n",
       "      <td>-0.938896</td>\n",
       "      <td>-0.947170</td>\n",
       "      <td>NaN</td>\n",
       "      <td>NaN</td>\n",
       "      <td>NaN</td>\n",
       "      <td>0.489136</td>\n",
       "      <td>0.590634</td>\n",
       "      <td>0.635927</td>\n",
       "      <td>0.643760</td>\n",
       "      <td>NaN</td>\n",
       "    </tr>\n",
       "    <tr>\n",
       "      <th>4x4-partial_chunk-10_chain-len-2</th>\n",
       "      <td>finished</td>\n",
       "      <td>-</td>\n",
       "      <td>dharakyu</td>\n",
       "      <td>NaN</td>\n",
       "      <td>2022-06-02T19:46:50.000Z</td>\n",
       "      <td>8428</td>\n",
       "      <td>NaN</td>\n",
       "      <td>32</td>\n",
       "      <td>2</td>\n",
       "      <td>[10,15]</td>\n",
       "      <td>...</td>\n",
       "      <td>NaN</td>\n",
       "      <td>NaN</td>\n",
       "      <td>NaN</td>\n",
       "      <td>NaN</td>\n",
       "      <td>NaN</td>\n",
       "      <td>0.828552</td>\n",
       "      <td>0.761741</td>\n",
       "      <td>NaN</td>\n",
       "      <td>NaN</td>\n",
       "      <td>NaN</td>\n",
       "    </tr>\n",
       "    <tr>\n",
       "      <th>4x4-partial_chunk-2_chain-len-3</th>\n",
       "      <td>finished</td>\n",
       "      <td>-</td>\n",
       "      <td>dharakyu</td>\n",
       "      <td>NaN</td>\n",
       "      <td>2022-06-02T17:30:27.000Z</td>\n",
       "      <td>11447</td>\n",
       "      <td>NaN</td>\n",
       "      <td>32</td>\n",
       "      <td>3</td>\n",
       "      <td>[2,4,6,8,10,12]</td>\n",
       "      <td>...</td>\n",
       "      <td>-0.894969</td>\n",
       "      <td>NaN</td>\n",
       "      <td>NaN</td>\n",
       "      <td>NaN</td>\n",
       "      <td>NaN</td>\n",
       "      <td>0.487623</td>\n",
       "      <td>0.582922</td>\n",
       "      <td>0.599209</td>\n",
       "      <td>NaN</td>\n",
       "      <td>NaN</td>\n",
       "    </tr>\n",
       "    <tr>\n",
       "      <th>4x4-full_chain-len-2</th>\n",
       "      <td>finished</td>\n",
       "      <td>-</td>\n",
       "      <td>dharakyu</td>\n",
       "      <td>NaN</td>\n",
       "      <td>2022-06-02T17:32:52.000Z</td>\n",
       "      <td>8029</td>\n",
       "      <td>NaN</td>\n",
       "      <td>32</td>\n",
       "      <td>2</td>\n",
       "      <td>NaN</td>\n",
       "      <td>...</td>\n",
       "      <td>NaN</td>\n",
       "      <td>NaN</td>\n",
       "      <td>NaN</td>\n",
       "      <td>NaN</td>\n",
       "      <td>NaN</td>\n",
       "      <td>0.890207</td>\n",
       "      <td>0.890186</td>\n",
       "      <td>NaN</td>\n",
       "      <td>NaN</td>\n",
       "      <td>NaN</td>\n",
       "    </tr>\n",
       "  </tbody>\n",
       "</table>\n",
       "<p>6 rows × 72 columns</p>\n",
       "</div>"
      ],
      "text/plain": [
       "                                     State Notes      User  Tags  \\\n",
       "Name                                                               \n",
       "4x4-partial_chunk-2_chain-len-5   finished     -  dharakyu   NaN   \n",
       "4x4-partial_chunk-2_chain-len-2   finished     -  dharakyu   NaN   \n",
       "4x4-partial_chunk-2_chain-len-4   finished     -  dharakyu   NaN   \n",
       "4x4-partial_chunk-10_chain-len-2  finished     -  dharakyu   NaN   \n",
       "4x4-partial_chunk-2_chain-len-3   finished     -  dharakyu   NaN   \n",
       "4x4-full_chain-len-2              finished     -  dharakyu   NaN   \n",
       "\n",
       "                                                   Created  Runtime  Sweep  \\\n",
       "Name                                                                         \n",
       "4x4-partial_chunk-2_chain-len-5   2022-06-03T00:18:39.000Z    16495    NaN   \n",
       "4x4-partial_chunk-2_chain-len-2   2022-06-02T06:48:06.000Z    70182    NaN   \n",
       "4x4-partial_chunk-2_chain-len-4   2022-06-02T20:41:23.000Z    13027    NaN   \n",
       "4x4-partial_chunk-10_chain-len-2  2022-06-02T19:46:50.000Z     8428    NaN   \n",
       "4x4-partial_chunk-2_chain-len-3   2022-06-02T17:30:27.000Z    11447    NaN   \n",
       "4x4-full_chain-len-2              2022-06-02T17:32:52.000Z     8029    NaN   \n",
       "\n",
       "                                  batch_size  chain_length           chunks  \\\n",
       "Name                                                                          \n",
       "4x4-partial_chunk-2_chain-len-5           32             5  [2,4,6,8,10,12]   \n",
       "4x4-partial_chunk-2_chain-len-2           32             2  [2,4,6,8,10,12]   \n",
       "4x4-partial_chunk-2_chain-len-4           32             4  [2,4,6,8,10,12]   \n",
       "4x4-partial_chunk-10_chain-len-2          32             2          [10,15]   \n",
       "4x4-partial_chunk-2_chain-len-3           32             3  [2,4,6,8,10,12]   \n",
       "4x4-full_chain-len-2                      32             2              NaN   \n",
       "\n",
       "                                  ...  val_loss_2  val_loss_3  val_loss_4  \\\n",
       "Name                              ...                                       \n",
       "4x4-partial_chunk-2_chain-len-5   ...   -0.933042   -0.949122   -0.955235   \n",
       "4x4-partial_chunk-2_chain-len-2   ...         NaN         NaN         NaN   \n",
       "4x4-partial_chunk-2_chain-len-4   ...   -0.938896   -0.947170         NaN   \n",
       "4x4-partial_chunk-10_chain-len-2  ...         NaN         NaN         NaN   \n",
       "4x4-partial_chunk-2_chain-len-3   ...   -0.894969         NaN         NaN   \n",
       "4x4-full_chain-len-2              ...         NaN         NaN         NaN   \n",
       "\n",
       "                                  val_prediction_index val_reward  \\\n",
       "Name                                                                \n",
       "4x4-partial_chunk-2_chain-len-5                    NaN        NaN   \n",
       "4x4-partial_chunk-2_chain-len-2                    NaN        NaN   \n",
       "4x4-partial_chunk-2_chain-len-4                    NaN        NaN   \n",
       "4x4-partial_chunk-10_chain-len-2                   NaN        NaN   \n",
       "4x4-partial_chunk-2_chain-len-3                    NaN        NaN   \n",
       "4x4-full_chain-len-2                               NaN        NaN   \n",
       "\n",
       "                                  val_reward_0  val_reward_1  val_reward_2  \\\n",
       "Name                                                                         \n",
       "4x4-partial_chunk-2_chain-len-5       0.488649      0.600524      0.627561   \n",
       "4x4-partial_chunk-2_chain-len-2       0.479359      0.571571           NaN   \n",
       "4x4-partial_chunk-2_chain-len-4       0.489136      0.590634      0.635927   \n",
       "4x4-partial_chunk-10_chain-len-2      0.828552      0.761741           NaN   \n",
       "4x4-partial_chunk-2_chain-len-3       0.487623      0.582922      0.599209   \n",
       "4x4-full_chain-len-2                  0.890207      0.890186           NaN   \n",
       "\n",
       "                                  val_reward_3 val_reward_4  \n",
       "Name                                                         \n",
       "4x4-partial_chunk-2_chain-len-5       0.639179     0.641665  \n",
       "4x4-partial_chunk-2_chain-len-2            NaN          NaN  \n",
       "4x4-partial_chunk-2_chain-len-4       0.643760          NaN  \n",
       "4x4-partial_chunk-10_chain-len-2           NaN          NaN  \n",
       "4x4-partial_chunk-2_chain-len-3            NaN          NaN  \n",
       "4x4-full_chain-len-2                       NaN          NaN  \n",
       "\n",
       "[6 rows x 72 columns]"
      ]
     },
     "execution_count": 2,
     "metadata": {},
     "output_type": "execute_result"
    }
   ],
   "source": [
    "path = '/home/dharakyu/signaling-bandits/outputs/fig1_data.csv'\n",
    "df = pd.read_csv(path)\n",
    "df = df.set_index('Name')\n",
    "df"
   ]
  },
  {
   "cell_type": "code",
   "execution_count": 3,
   "metadata": {},
   "outputs": [],
   "source": [
    "expected_rewards = []\n",
    "for chain_len in range(2, 6):\n",
    "    name = '4x4-partial_chunk-2_chain-len-{chain_len}'.format(chain_len=chain_len)\n",
    "    indices = range(chain_len)\n",
    "    col_names = ['val_reward_{i}'.format(i=i) for i in indices]\n",
    "    #subset = df[col_names]\n",
    "    #print(subset)\n",
    "    rewards_at_each_gen = list(df.loc[name][col_names])\n",
    "    expected_rewards.append(rewards_at_each_gen)"
   ]
  },
  {
   "cell_type": "code",
   "execution_count": 6,
   "metadata": {},
   "outputs": [
    {
     "data": {
      "text/plain": [
       "0.8285523484279383"
      ]
     },
     "execution_count": 6,
     "metadata": {},
     "output_type": "execute_result"
    }
   ],
   "source": [
    "baseline_full = df.loc['4x4-full_chain-len-2'][['val_reward_0']][0]\n",
    "baseline_10 = df.loc['4x4-partial_chunk-10_chain-len-2'][['val_reward_0']][0]\n",
    "baseline_10"
   ]
  },
  {
   "cell_type": "markdown",
   "metadata": {},
   "source": [
    "## Significance testing"
   ]
  },
  {
   "cell_type": "code",
   "execution_count": 7,
   "metadata": {},
   "outputs": [
    {
     "data": {
      "text/html": [
       "<div>\n",
       "<style scoped>\n",
       "    .dataframe tbody tr th:only-of-type {\n",
       "        vertical-align: middle;\n",
       "    }\n",
       "\n",
       "    .dataframe tbody tr th {\n",
       "        vertical-align: top;\n",
       "    }\n",
       "\n",
       "    .dataframe thead th {\n",
       "        text-align: right;\n",
       "    }\n",
       "</style>\n",
       "<table border=\"1\" class=\"dataframe\">\n",
       "  <thead>\n",
       "    <tr style=\"text-align: right;\">\n",
       "      <th></th>\n",
       "      <th>val_reward_0</th>\n",
       "      <th>val_reward_1</th>\n",
       "      <th>val_reward_2</th>\n",
       "      <th>val_reward_3</th>\n",
       "      <th>val_reward_4</th>\n",
       "    </tr>\n",
       "    <tr>\n",
       "      <th>Name</th>\n",
       "      <th></th>\n",
       "      <th></th>\n",
       "      <th></th>\n",
       "      <th></th>\n",
       "      <th></th>\n",
       "    </tr>\n",
       "  </thead>\n",
       "  <tbody>\n",
       "    <tr>\n",
       "      <th>4x4-partial_chunk-2_chain-len-5_run-5</th>\n",
       "      <td>0.486536</td>\n",
       "      <td>0.634298</td>\n",
       "      <td>0.661792</td>\n",
       "      <td>0.652964</td>\n",
       "      <td>0.668427</td>\n",
       "    </tr>\n",
       "    <tr>\n",
       "      <th>4x4-partial_chunk-2_chain-len-5_run-4</th>\n",
       "      <td>0.435684</td>\n",
       "      <td>0.591153</td>\n",
       "      <td>0.608872</td>\n",
       "      <td>0.602795</td>\n",
       "      <td>0.601402</td>\n",
       "    </tr>\n",
       "    <tr>\n",
       "      <th>4x4-partial_chunk-2_chain-len-5_run-3</th>\n",
       "      <td>0.501974</td>\n",
       "      <td>0.577034</td>\n",
       "      <td>0.602460</td>\n",
       "      <td>0.637187</td>\n",
       "      <td>0.630708</td>\n",
       "    </tr>\n",
       "    <tr>\n",
       "      <th>4x4-partial_chunk-2_chain-len-5_run-2</th>\n",
       "      <td>0.506547</td>\n",
       "      <td>0.577907</td>\n",
       "      <td>0.611634</td>\n",
       "      <td>0.629740</td>\n",
       "      <td>0.631224</td>\n",
       "    </tr>\n",
       "    <tr>\n",
       "      <th>4x4-partial_chunk-2_chain-len-5_run-1</th>\n",
       "      <td>0.512504</td>\n",
       "      <td>0.622226</td>\n",
       "      <td>0.653046</td>\n",
       "      <td>0.673210</td>\n",
       "      <td>0.676567</td>\n",
       "    </tr>\n",
       "  </tbody>\n",
       "</table>\n",
       "</div>"
      ],
      "text/plain": [
       "                                       val_reward_0  val_reward_1  \\\n",
       "Name                                                                \n",
       "4x4-partial_chunk-2_chain-len-5_run-5      0.486536      0.634298   \n",
       "4x4-partial_chunk-2_chain-len-5_run-4      0.435684      0.591153   \n",
       "4x4-partial_chunk-2_chain-len-5_run-3      0.501974      0.577034   \n",
       "4x4-partial_chunk-2_chain-len-5_run-2      0.506547      0.577907   \n",
       "4x4-partial_chunk-2_chain-len-5_run-1      0.512504      0.622226   \n",
       "\n",
       "                                       val_reward_2  val_reward_3  \\\n",
       "Name                                                                \n",
       "4x4-partial_chunk-2_chain-len-5_run-5      0.661792      0.652964   \n",
       "4x4-partial_chunk-2_chain-len-5_run-4      0.608872      0.602795   \n",
       "4x4-partial_chunk-2_chain-len-5_run-3      0.602460      0.637187   \n",
       "4x4-partial_chunk-2_chain-len-5_run-2      0.611634      0.629740   \n",
       "4x4-partial_chunk-2_chain-len-5_run-1      0.653046      0.673210   \n",
       "\n",
       "                                       val_reward_4  \n",
       "Name                                                 \n",
       "4x4-partial_chunk-2_chain-len-5_run-5      0.668427  \n",
       "4x4-partial_chunk-2_chain-len-5_run-4      0.601402  \n",
       "4x4-partial_chunk-2_chain-len-5_run-3      0.630708  \n",
       "4x4-partial_chunk-2_chain-len-5_run-2      0.631224  \n",
       "4x4-partial_chunk-2_chain-len-5_run-1      0.676567  "
      ]
     },
     "execution_count": 7,
     "metadata": {},
     "output_type": "execute_result"
    }
   ],
   "source": [
    "path = '/home/dharakyu/signaling-bandits/outputs/chain_len_5.csv'\n",
    "chain_len_5_df = pd.read_csv(path)\n",
    "chain_len_5_df = chain_len_5_df.set_index('Name')\n",
    "col_names = ['val_reward_{i}'.format(i=i) for i in range(5)]\n",
    "chain_len_5_df[col_names]"
   ]
  },
  {
   "cell_type": "code",
   "execution_count": 8,
   "metadata": {},
   "outputs": [
    {
     "name": "stdout",
     "output_type": "stream",
     "text": [
      "for gen 0 and 1\n",
      "0.00027697216785725165\n",
      "for gen 1 and 2\n",
      "0.15154759011904137\n",
      "for gen 2 and 3\n",
      "0.5150161992734729\n",
      "for gen 3 and 4\n",
      "0.8941170158443525\n"
     ]
    }
   ],
   "source": [
    "a = np.array(chain_len_5_df[col_names])\n",
    "for i in range(4):\n",
    "    gen_i = a[:, i]\n",
    "    gen_i_plus_1 = a[:, i+1]\n",
    "    stat, pval = ttest_ind(gen_i, gen_i_plus_1, equal_var=True)\n",
    "    print('for gen', i, 'and', i+1)\n",
    "    print(pval)"
   ]
  },
  {
   "cell_type": "code",
   "execution_count": 9,
   "metadata": {},
   "outputs": [
    {
     "data": {
      "text/plain": [
       "array([0.48653639, 0.43568398, 0.50197363, 0.50654724, 0.51250357,\n",
       "       0.63429847, 0.59115321, 0.57703384, 0.57790692, 0.62222628,\n",
       "       0.66179172, 0.60887217, 0.60246009, 0.61163443, 0.65304599,\n",
       "       0.65296355, 0.60279545, 0.63718739, 0.62974031, 0.67320954,\n",
       "       0.66842718, 0.60140195, 0.63070758, 0.63122386, 0.67656691])"
      ]
     },
     "execution_count": 9,
     "metadata": {},
     "output_type": "execute_result"
    }
   ],
   "source": [
    "reshaped_a = a.T.reshape(-1)\n",
    "reshaped_a"
   ]
  },
  {
   "cell_type": "code",
   "execution_count": 10,
   "metadata": {},
   "outputs": [
    {
     "data": {
      "text/plain": [
       "[0, 0, 0, 0, 0, 1, 1, 1, 1, 1, 2, 2, 2, 2, 2, 3, 3, 3, 3, 3, 4, 4, 4, 4, 4]"
      ]
     },
     "execution_count": 10,
     "metadata": {},
     "output_type": "execute_result"
    }
   ],
   "source": [
    "gen = []\n",
    "for i in range(5):\n",
    "    for _ in range(5):\n",
    "        gen.append(i)\n",
    "gen"
   ]
  },
  {
   "cell_type": "code",
   "execution_count": 11,
   "metadata": {},
   "outputs": [
    {
     "data": {
      "text/plain": [
       "3.501913569284766e-05"
      ]
     },
     "execution_count": 11,
     "metadata": {},
     "output_type": "execute_result"
    }
   ],
   "source": [
    "corr, pval = spearmanr(gen, reshaped_a)\n",
    "corr\n",
    "pval"
   ]
  },
  {
   "cell_type": "code",
   "execution_count": 12,
   "metadata": {},
   "outputs": [
    {
     "data": {
      "text/plain": [
       "(0.4, 1.0)"
      ]
     },
     "execution_count": 12,
     "metadata": {},
     "output_type": "execute_result"
    },
    {
     "data": {
      "image/png": "[encoded data removed]",
      "text/plain": [
       "<Figure size 432x288 with 1 Axes>"
      ]
     },
     "metadata": {
      "needs_background": "light"
     },
     "output_type": "display_data"
    }
   ],
   "source": [
    "fig, ax = plt.subplots(figsize=(6, 4))\n",
    "plt.hlines(y=baseline_full, xmin=0, xmax=4, linestyles='dashed', color='purple', label='Full world state upper bound')\n",
    "ax.text(0, 0.9, round(baseline_full, 3), fontsize=12)\n",
    "\n",
    "plt.hlines(y=baseline_10, xmin=0, xmax=4, linestyles='dashed', color='red', label='Partial world state upper bound')\n",
    "ax.text(0, 0.84, round(baseline_10, 3), fontsize=12)\n",
    "\n",
    "plt.scatter(gen, reshaped_a)\n",
    "plt.ylim(0.4, 1)"
   ]
  },
  {
   "cell_type": "code",
   "execution_count": 13,
   "metadata": {},
   "outputs": [
    {
     "data": {
      "text/plain": [
       "array([0.02784489, 0.02350674, 0.02471522, 0.02351557, 0.02751201])"
      ]
     },
     "execution_count": 13,
     "metadata": {},
     "output_type": "execute_result"
    }
   ],
   "source": [
    "np.std(a, axis=0)"
   ]
  },
  {
   "cell_type": "markdown",
   "metadata": {},
   "source": [
    "## Figure"
   ]
  },
  {
   "cell_type": "code",
   "execution_count": 19,
   "metadata": {},
   "outputs": [
    {
     "data": {
      "image/png": "[encoded data removed]",
      "text/plain": [
       "<Figure size 432x288 with 1 Axes>"
      ]
     },
     "metadata": {
      "needs_background": "light"
     },
     "output_type": "display_data"
    }
   ],
   "source": [
    "fig, ax = plt.subplots(figsize=(6, 4))\n",
    "#plt.hlines(y=baseline_full, xmin=0, xmax=4, linestyles='dashed', color='purple', label='Full world state upper bound')\n",
    "#ax.text(0, 0.9, round(baseline_full, 3), fontsize=12)\n",
    "\n",
    "plt.hlines(y=baseline_10, xmin=0, xmax=4, linestyles='dashed', color='red', label='Partial world state upper bound')\n",
    "ax.text(0, 0.84, round(baseline_10, 3), fontsize=12)\n",
    "\n",
    "plt.plot(np.arange(5), expected_rewards[3], 'bo-', label='Chain length = 5')\n",
    "plt.errorbar(np.arange(5), expected_rewards[3], np.std(a, axis=0), color='b')\n",
    "plt.xticks([0, 1, 2, 3, 4], fontsize=12)\n",
    "plt.xlabel('Generation', fontsize=16)\n",
    "plt.ylim(0.4, 1)\n",
    "plt.yticks([0.4, 0.5, 0.6, 0.7, 0.8, 0.9, 1.0], fontsize=12)\n",
    "plt.ylabel('Expected reward', fontsize=16)\n",
    "\n",
    "for i in range(len(expected_rewards[3])):\n",
    "  plt.text(i-0.3, expected_rewards[3][i]+0.03, round(expected_rewards[3][i], 3), size=12)\n",
    "plt.legend(loc='upper center', bbox_to_anchor=(0.5, 1.25), fontsize=12)\n",
    "plt.show()"
   ]
  },
  {
   "cell_type": "code",
   "execution_count": null,
   "metadata": {},
   "outputs": [],
   "source": []
  }
 ],
 "metadata": {
  "kernelspec": {
   "display_name": "Python 3",
   "language": "python",
   "name": "python3"
  },
  "language_info": {
   "codemirror_mode": {
    "name": "ipython",
    "version": 3
   },
   "file_extension": ".py",
   "mimetype": "text/x-python",
   "name": "python",
   "nbconvert_exporter": "python",
   "pygments_lexer": "ipython3",
   "version": "3.7.10"
  }
 },
 "nbformat": 4,
 "nbformat_minor": 4
}
